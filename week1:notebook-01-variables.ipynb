{
 "cells": [
  {
   "cell_type": "code",
   "execution_count": 21,
   "id": "b087b8d3",
   "metadata": {},
   "outputs": [
    {
     "name": "stdout",
     "output_type": "stream",
     "text": [
      "3.13.5 (v3.13.5:6cb20a219a8, Jun 11 2025, 12:23:45) [Clang 16.0.0 (clang-1600.0.26.6)]\n"
     ]
    }
   ],
   "source": [
    "#Cell 1\n",
    "import sys\n",
    "print (sys.version)\n"
   ]
  },
  {
   "cell_type": "code",
   "execution_count": 22,
   "id": "9a44a813",
   "metadata": {},
   "outputs": [
    {
     "name": "stdout",
     "output_type": "stream",
     "text": [
      "Ada is 25 years old and 175.5 cm tall.\n"
     ]
    }
   ],
   "source": [
    "#basic variables\n",
    "age = 25\n",
    "height_cm = 175.5\n",
    "name =\"Ada\"\n",
    "print (f\"{name} is {age} years old and {height_cm} cm tall.\" )\n"
   ]
  },
  {
   "cell_type": "code",
   "execution_count": 23,
   "id": "a713e3d5",
   "metadata": {},
   "outputs": [
    {
     "name": "stdout",
     "output_type": "stream",
     "text": [
      "<class 'int'> <class 'float'> <class 'str'>\n"
     ]
    }
   ],
   "source": [
    "print (type(age), type(height_cm), type(name))"
   ]
  },
  {
   "cell_type": "code",
   "execution_count": null,
   "id": "9f14fbb6",
   "metadata": {},
   "outputs": [],
   "source": [
    "scores_list = [88, 92, 79]\n",
    "scores_tuple = (88, 92, 79)\n",
    "scores_list.append (95)\n",
    "print(scores_list, scores_tuple)"
   ]
  }
 ],
 "metadata": {
  "kernelspec": {
   "display_name": ".venv",
   "language": "python",
   "name": "python3"
  },
  "language_info": {
   "codemirror_mode": {
    "name": "ipython",
    "version": 3
   },
   "file_extension": ".py",
   "mimetype": "text/x-python",
   "name": "python",
   "nbconvert_exporter": "python",
   "pygments_lexer": "ipython3",
   "version": "3.13.5"
  }
 },
 "nbformat": 4,
 "nbformat_minor": 5
}
