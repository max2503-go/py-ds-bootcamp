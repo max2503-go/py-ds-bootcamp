{
 "cells": [
  {
   "cell_type": "code",
   "execution_count": 1,
   "id": "2104035a",
   "metadata": {},
   "outputs": [
    {
     "name": "stdout",
     "output_type": "stream",
     "text": [
      "Squares: [1, 4, 9, 16, 25]\n"
     ]
    }
   ],
   "source": [
    "#qick refresh\n",
    "nums = [1, 2, 3, 4, 5]\n",
    "squares = [x**2 for x in nums]\n",
    "print (\"Squares:\", squares)"
   ]
  },
  {
   "cell_type": "code",
   "execution_count": 2,
   "id": "187e756f",
   "metadata": {},
   "outputs": [
    {
     "name": "stdout",
     "output_type": "stream",
     "text": [
      "Letter grade: B\n"
     ]
    }
   ],
   "source": [
    "# if / elif / else\n",
    "grade = 87\n",
    "if grade >= 90:\n",
    "    letter = \"A\"\n",
    "elif grade >= 80:\n",
    "    letter = \"B\"\n",
    "else:\n",
    "    letter = \"C\"\n",
    "print(f\"Letter grade: {letter}\")"
   ]
  },
  {
   "cell_type": "code",
   "execution_count": 7,
   "id": "bbfd5fc8",
   "metadata": {},
   "outputs": [
    {
     "name": "stdout",
     "output_type": "stream",
     "text": [
      "1. milk\n",
      "2. bread\n",
      "3. eggs\n",
      "1. milk\n",
      "2. bread\n",
      "3. eggs\n"
     ]
    }
   ],
   "source": [
    "#classic for-loop vs enumerate; idx = index; enumerate walks through the list\n",
    "groceries = [\"milk\", \"bread\", \"eggs\"]\n",
    "for idx, item in enumerate(groceries, start=1):\n",
    "    print(f\"{idx}. {item}\")\n",
    "\n",
    "#alternative to enumerate we need a manual counter\n",
    "counter = 1\n",
    "for item in groceries:\n",
    "    print(f\"{counter}. {item}\")\n",
    "    counter += 1"
   ]
  }
 ],
 "metadata": {
  "kernelspec": {
   "display_name": ".venv",
   "language": "python",
   "name": "python3"
  },
  "language_info": {
   "codemirror_mode": {
    "name": "ipython",
    "version": 3
   },
   "file_extension": ".py",
   "mimetype": "text/x-python",
   "name": "python",
   "nbconvert_exporter": "python",
   "pygments_lexer": "ipython3",
   "version": "3.13.5"
  }
 },
 "nbformat": 4,
 "nbformat_minor": 5
}
