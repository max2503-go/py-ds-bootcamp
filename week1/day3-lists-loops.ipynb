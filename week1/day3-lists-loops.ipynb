{
 "cells": [
  {
   "cell_type": "code",
   "execution_count": null,
   "id": "b43ec807",
   "metadata": {},
   "outputs": [
    {
     "data": {
      "text/plain": [
       "[1, 2, 3, 4, 5, 6, 7, 8, 9, 10, 11, 12, 13, 14, 15, 16, 17, 18, 19, 20]"
      ]
     },
     "execution_count": 4,
     "metadata": {},
     "output_type": "execute_result"
    }
   ],
   "source": [
    "# create number 1-20 (list for numericals and range to determine the range)\n",
    "numbers = list(range(1, 21))\n",
    "numbers"
   ]
  },
  {
   "cell_type": "code",
   "execution_count": null,
   "id": "cf52192d",
   "metadata": {},
   "outputs": [
    {
     "name": "stdout",
     "output_type": "stream",
     "text": [
      "x3: [3, 6, 9, 12, 15, 18]\n",
      "x5: [5, 10, 15, 20]\n"
     ]
    }
   ],
   "source": [
    "#pick multiples with modulo [x % y == 0] analysiert wie of y in z passt, und ob dabei ein rest bleibt\n",
    "# also z.B. 6 % 4 == 0 ist nicht wahr, da 4 1x in 6 passt aber 2 übrigbleibt -> daher nicht gleich 0\n",
    "#dann drucken wir einfahc alle multiples von 3 und 5\n",
    "multiples_3 = [n for n in numbers if n % 3 == 0]\n",
    "multiples_5 = [n for n in numbers if n % 5 ==0]\n",
    "print(\"x3:\", multiples_3)\n",
    "print(\"x5:\", multiples_5)"
   ]
  },
  {
   "cell_type": "code",
   "execution_count": null,
   "id": "1bc3111d",
   "metadata": {},
   "outputs": [
    {
     "data": {
      "text/plain": [
       "['1',\n",
       " '2',\n",
       " '3',\n",
       " '4',\n",
       " '5',\n",
       " '6',\n",
       " '7',\n",
       " '8',\n",
       " '9',\n",
       " '10',\n",
       " '11',\n",
       " '12',\n",
       " '13',\n",
       " '14',\n",
       " '15',\n",
       " '16',\n",
       " '17',\n",
       " '18',\n",
       " '19',\n",
       " '20']"
      ]
     },
     "execution_count": 6,
     "metadata": {},
     "output_type": "execute_result"
    }
   ],
   "source": [
    "#strings for numbers (es wird eine Liste erstellt, bei der die numbers ihr zeichen behalten, aber nicht mehr nummerisch sind)\n",
    "strings = [str(n) for n in numbers]\n",
    "strings"
   ]
  },
  {
   "cell_type": "code",
   "execution_count": 12,
   "id": "fc297aad",
   "metadata": {},
   "outputs": [
    {
     "name": "stdout",
     "output_type": "stream",
     "text": [
      "5 x 1 = 5\n",
      "5 x 2 = 10\n",
      "5 x 3 = 15\n",
      "5 x 4 = 20\n",
      "5 x 5 = 25\n"
     ]
    }
   ],
   "source": [
    "# tiny 5x table; um bis 5 zu kommen, muss der range 1 - 6 gewählt werden -> the upper bound (6) is alway exlcuded in range!\n",
    "# f\"5 × {i} = {5 * i}\" is an f-string:\n",
    "# An f-string is just a shortcut to put variables inside text.\n",
    "# Start the string with f\"\n",
    "# Drop variables inside { }\n",
    "# Example:\n",
    "# name = \"Ada\"\n",
    "# age  = 25\n",
    "# print(f\"My name is {name} and I am {age} years old.\")\n",
    "# Output\n",
    "# My name is Ada and I am 25 years old.\n",
    "# No \"+\"\" needed — Python replaces each {variable} with its value.\n",
    "# if I change the code to: print(\"My name is {name} and I am {age} years old.\")\n",
    "# Python will print the braces literally:\n",
    "# My name is {name} and I am {age} years old.\n",
    "# Without the leading f, the {name} and {age} are not replaced — they’re treated as normal characters.\n",
    "for i in range (1, 6):\n",
    "    print(f\"5 x {i} = {5 * i}\")"
   ]
  },
  {
   "cell_type": "code",
   "execution_count": 17,
   "id": "046df169",
   "metadata": {},
   "outputs": [
    {
     "name": "stdout",
     "output_type": "stream",
     "text": [
      "['1', '2', 'Fizz', '4', 'Buzz', 'Fizz', '7', '8', 'Fizz', 'Buzz', '11', 'Fizz', '13', '14', 'FizzBuzz']\n"
     ]
    }
   ],
   "source": [
    "# Mini Exercise:\n",
    "# FizzBuzz 1..15 using for loop + if else\n",
    "result = []\n",
    "for i in range(1, 16): #remember 16 is excluded!\n",
    "    if i % 15 == 0:\n",
    "        result.append(\"FizzBuzz\")\n",
    "    elif i % 3 == 0:\n",
    "        result.append(\"Fizz\")\n",
    "    elif i % 5 == 0:\n",
    "        result.append(\"Buzz\")\n",
    "    else:\n",
    "        result.append(str(i))\n",
    "print(result) #we use here \"print\", because we are  NOT inside the function \"def fizz_buzz(15)\" -> otherwise use \"return result\""
   ]
  }
 ],
 "metadata": {
  "kernelspec": {
   "display_name": ".venv",
   "language": "python",
   "name": "python3"
  },
  "language_info": {
   "codemirror_mode": {
    "name": "ipython",
    "version": 3
   },
   "file_extension": ".py",
   "mimetype": "text/x-python",
   "name": "python",
   "nbconvert_exporter": "python",
   "pygments_lexer": "ipython3",
   "version": "3.13.5"
  }
 },
 "nbformat": 4,
 "nbformat_minor": 5
}
